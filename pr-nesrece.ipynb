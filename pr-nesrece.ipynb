{
 "cells": [
  {
   "cell_type": "markdown",
   "id": "02c92d8e",
   "metadata": {},
   "source": [
    "## Prometne nesreče v Sloveniji\n",
    "Projektna naloga\n"
   ]
  },
  {
   "cell_type": "code",
   "execution_count": 7,
   "id": "9dabb658",
   "metadata": {},
   "outputs": [],
   "source": [
    "import pandas as pd\n",
    "file_path = 'podatki/pn2009_2023.csv' \n",
    "\n",
    "\n",
    "def load_accident_data(file_path):\n",
    "\n",
    "    try:\n",
    "       \n",
    "        df = pd.read_csv(file_path, sep=',')  \n",
    "        return df\n",
    "    except FileNotFoundError:\n",
    "        print(f\"Error: File not found at path: {file_path}\")\n",
    "        return None\n",
    "    except Exception as e:\n",
    "        print(f\"An error occurred while loading the data: {e}\")\n",
    "        return None\n",
    "\n",
    "accident_data = load_accident_data(file_path)\n",
    "\n"
   ]
  },
  {
   "cell_type": "markdown",
   "id": "d651ca78",
   "metadata": {},
   "source": [
    "### 1. Najpogostejši vzroki za prometne nesreče"
   ]
  },
  {
   "cell_type": "code",
   "execution_count": 8,
   "id": "c7a0a026",
   "metadata": {},
   "outputs": [
    {
     "name": "stdout",
     "output_type": "stream",
     "text": [
      "\n",
      "Najpogostejši vzroki za nesreče:\n",
      "VzrokNesrece\n",
      "PREMIKI Z VOZILOM                   123644\n",
      "NEUPOŠTEVANJE PRAVIL O PREDNOSTI     88277\n",
      "NEPRILAGOJENA HITROST                83660\n",
      "NEUSTREZNA VARNOSTNA RAZDALJA        75122\n",
      "NEPRAVILNA STRAN / SMER VOŽNJE       73313\n",
      "OSTALO                               55869\n",
      "NEPRAVILNO PREHITEVANJE              14229\n",
      "NEPRAVILNOSTI PEŠCA                   3310\n",
      "NEPRAVILNOSTI NA TOVORU               2613\n",
      "NEPRAVILNOSTI NA CESTI                1209\n",
      "Name: count, dtype: int64\n"
     ]
    }
   ],
   "source": [
    "if accident_data is not None:\n",
    "    vzroki_nesrec_counts = accident_data['VzrokNesrece'].value_counts()\n",
    "\n",
    "    top_n = 10\n",
    "    najpogostejši_vzroki = vzroki_nesrec_counts.head(top_n)\n",
    "\n",
    "    print(\"\\nNajpogostejši vzroki za nesreče:\")\n",
    "    print(najpogostejši_vzroki)\n",
    "else:\n",
    "    print(\"Napaka\")"
   ]
  },
  {
   "cell_type": "markdown",
   "id": "46f3797d",
   "metadata": {},
   "source": [
    "Opis:\n",
    "\n",
    "Vidimo da je na prvem mestu  \"PREMIKI Z VOZILOM\", kar nakazuje na pogoste napake pri vsakodnevnih vožnjah, kot so nepravilno vključevanje v promet, spreminjanje smeri vožnje ali ustavljanje. Sledijo \"NEUPOŠTEVANJE PRAVIL O PREDNOSTI\" in \"NEPRILAGOJENA HITROST\", ki se zdijo še kar logični."
   ]
  },
  {
   "cell_type": "code",
   "execution_count": null,
   "id": "0629ac3d",
   "metadata": {},
   "outputs": [],
   "source": []
  }
 ],
 "metadata": {
  "kernelspec": {
   "display_name": "Python 3",
   "language": "python",
   "name": "python3"
  },
  "language_info": {
   "codemirror_mode": {
    "name": "ipython",
    "version": 3
   },
   "file_extension": ".py",
   "mimetype": "text/x-python",
   "name": "python",
   "nbconvert_exporter": "python",
   "pygments_lexer": "ipython3",
   "version": "3.10.7"
  }
 },
 "nbformat": 4,
 "nbformat_minor": 5
}
